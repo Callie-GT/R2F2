{
 "cells": [
  {
   "cell_type": "code",
   "execution_count": 2,
   "metadata": {},
   "outputs": [],
   "source": [
    "import numpy as np\n",
    "import matplotlib.pyplot as plt\n",
    "import matplotlib\n",
    "\n",
    "all_data = []\n",
    "data = []\n",
    "with open('temperature.txt', 'r') as file:\n",
    "    for line in file:\n",
    "        line = line.strip()\n",
    "        if line.startswith('Time step'):\n",
    "            if data:\n",
    "                all_data.append(data)\n",
    "                data = []\n",
    "        else:\n",
    "            row = [float(value) for value in line.split()]\n",
    "            data.append(row)\n",
    "data.append(row)\n",
    "\n",
    "all_temperature = np.array(all_data)\n",
    "\n",
    "\n",
    "# Plotting the temperature profile\n",
    "\n",
    "x = all_temperature[0][:, 0]\n",
    "time_steps = all_temperature.shape[0]\n",
    "print(\"total time steps: \" + str(time_steps))\n",
    "\n",
    "color_map = matplotlib.colormaps['plasma']\n",
    "values = np.linspace(0, 1, time_steps)\n",
    "colors = color_map(values)\n",
    "\n",
    "plt.figure(figsize=(5, 4))\n",
    "\n",
    "for i in range(0, (int)(time_steps/1), 1):\n",
    "    u = all_temperature[i][:, 1]\n",
    "    plt.plot(x, u, color=colors[i])\n",
    "\n",
    "plt.xlabel('Position (x)', fontsize = 16)\n",
    "plt.xticks(fontsize=16)\n",
    "plt.ylabel('Temperature', fontsize = 16)\n",
    "plt.yticks(fontsize=16)\n",
    "plt.grid(True)\n",
    "plt.show()\n"
   ]
  }
 ],
 "metadata": {
  "kernelspec": {
   "display_name": "Python 3",
   "language": "python",
   "name": "python3"
  },
  "language_info": {
   "codemirror_mode": {
    "name": "ipython",
    "version": 3
   },
   "file_extension": ".py",
   "mimetype": "text/x-python",
   "name": "python",
   "nbconvert_exporter": "python",
   "pygments_lexer": "ipython3",
   "version": "3.11.9"
  }
 },
 "nbformat": 4,
 "nbformat_minor": 2
}
